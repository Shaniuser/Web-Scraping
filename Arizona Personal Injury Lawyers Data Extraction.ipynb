{
 "cells": [
  {
   "cell_type": "code",
   "execution_count": 24,
   "id": "7e502e72",
   "metadata": {},
   "outputs": [],
   "source": [
    "# import necessary libraries\n",
    "from selenium import webdriver\n",
    "from selenium.common.exceptions import NoSuchElementException\n",
    "import time\n",
    "from bs4 import BeautifulSoup\n",
    "import numpy as np\n",
    "import pandas as pd"
   ]
  },
  {
   "cell_type": "code",
   "execution_count": 25,
   "id": "1850c038",
   "metadata": {},
   "outputs": [],
   "source": [
    "# Launching Chrome WebDriver\n",
    "driver = webdriver.Chrome()\n",
    "# Navigating to the specified URL\n",
    "driver.get(\"https://www.personalinjurylaw.guru/search_results?tid=87&location_value=Arizona&adm_lvl_1_sn=AZ&stateSearchLN=Arizona&country_sn=US&location_type=administrative_area_level_1&stateSearch=AZ&swlat=31.3323448&nelat=37.0037251&swlng=-114.8163229&nelng=-109.0451719&lat=34.0489281&lng=-111.0937311&faddress=Arizona%2C+USA&place_id=ChIJaxhMy-sIK4cRcc3Bf7EnOUI\")"
   ]
  },
  {
   "cell_type": "code",
   "execution_count": 26,
   "id": "8af94d6a",
   "metadata": {},
   "outputs": [],
   "source": [
    "# click on the load more button untill it is not available\n",
    "while True:\n",
    "    # Wait for 3 seconds before attempting to find the button again\n",
    "    time.sleep(3)\n",
    "    try:\n",
    "        # Try to find the \"Load More\" button and click it\n",
    "        btn = driver.find_element(\"id\" ,\"btnToLoadMorePost\")\n",
    "        btn.click()\n",
    "    except NoSuchElementException:\n",
    "        # If the button is not found, break out of the loop\n",
    "        break\n",
    "# Get the page source after loading all posts\n",
    "doc = driver.page_source"
   ]
  },
  {
   "cell_type": "code",
   "execution_count": 32,
   "id": "67caced4",
   "metadata": {},
   "outputs": [],
   "source": [
    "soup = BeautifulSoup(doc, \"lxml\")\n",
    "# Function to scrape data from the page using BeautifulSoup\n",
    "def scrape_page(soup):\n",
    "    # Extracting names of attorneys\n",
    "    names = [name.text.strip().replace(\"- Attorneys\", \"\") for name in soup.find_all('h2', class_='h3')]\n",
    "    \n",
    "    # Extracting companies\n",
    "    containers = soup.find_all('div', class_='mid_section')\n",
    "    companies = [container.find_all('td')[1].text if len(container.find_all('td')) > 1 else np.nan for container in containers]\n",
    "    \n",
    "    # Extracting locations\n",
    "    location_tag = soup.find_all('i', class_='fa fa-map-marker text-danger')\n",
    "    locations = [location.find_next_sibling(text=True).strip() for location in location_tag]\n",
    "    \n",
    "    # Extracting phone numbers\n",
    "    phone_numbers = [np.nan if not container.find('div', class_='hide myphoneHide') else container.find('div', class_='hide myphoneHide').text.strip().replace(\"Call: \", \"\") for container in containers]\n",
    "\n",
    "    return names, companies, locations, phone_numbers"
   ]
  },
  {
   "cell_type": "code",
   "execution_count": 33,
   "id": "908b1f5f",
   "metadata": {},
   "outputs": [
    {
     "name": "stderr",
     "output_type": "stream",
     "text": [
      "C:\\Users\\dell\\AppData\\Local\\Temp\\ipykernel_10272\\2878756766.py:13: DeprecationWarning: The 'text' argument to find()-type methods is deprecated. Use 'string' instead.\n",
      "  locations = [location.find_next_sibling(text=True).strip() for location in location_tag]\n"
     ]
    }
   ],
   "source": [
    "# Scrape data from the page\n",
    "names, companies, locations, phone_numbers = scrape_page(soup)"
   ]
  },
  {
   "cell_type": "code",
   "execution_count": 35,
   "id": "91290b45",
   "metadata": {},
   "outputs": [],
   "source": [
    "# Create a dictionary to store the scraped data\n",
    "data = {\n",
    "    'Name': names,\n",
    "    'Company': company,\n",
    "    'Location': location,\n",
    "    'Phone Number': phone_numbers\n",
    "}\n",
    "\n",
    "# Create a DataFrame\n",
    "df = pd.DataFrame(data)"
   ]
  },
  {
   "cell_type": "code",
   "execution_count": 36,
   "id": "b4f0d957",
   "metadata": {},
   "outputs": [],
   "source": [
    "# Save the DataFrame to a CSV file\n",
    "df.to_csv(\"Arizona-State-Injury-Lawyers.csv\")"
   ]
  },
  {
   "cell_type": "code",
   "execution_count": null,
   "id": "2653c399",
   "metadata": {},
   "outputs": [],
   "source": []
  }
 ],
 "metadata": {
  "kernelspec": {
   "display_name": "Python 3 (ipykernel)",
   "language": "python",
   "name": "python3"
  },
  "language_info": {
   "codemirror_mode": {
    "name": "ipython",
    "version": 3
   },
   "file_extension": ".py",
   "mimetype": "text/x-python",
   "name": "python",
   "nbconvert_exporter": "python",
   "pygments_lexer": "ipython3",
   "version": "3.11.5"
  }
 },
 "nbformat": 4,
 "nbformat_minor": 5
}
